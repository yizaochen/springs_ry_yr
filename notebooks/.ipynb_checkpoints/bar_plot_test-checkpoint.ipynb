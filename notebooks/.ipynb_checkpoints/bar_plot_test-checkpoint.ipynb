{
 "cells": [
  {
   "cell_type": "code",
   "execution_count": 11,
   "id": "d063e978-c3a8-47aa-9de7-d8ef056c052d",
   "metadata": {},
   "outputs": [],
   "source": [
    "from os import path\n",
    "import matplotlib.pyplot as plt\n",
    "import pandas as pd\n",
    "import numpy as np"
   ]
  },
  {
   "cell_type": "markdown",
   "id": "780215cc-a6b2-42d0-a76c-7385e4d220e8",
   "metadata": {},
   "source": [
    "### Part 1: Boxplot"
   ]
  },
  {
   "cell_type": "code",
   "execution_count": 3,
   "id": "68446ca4-f04b-46f3-8d94-16946142e7de",
   "metadata": {},
   "outputs": [],
   "source": [
    "host = 'atat_21mer'"
   ]
  },
  {
   "cell_type": "code",
   "execution_count": 4,
   "id": "326ba1db-bf8c-4ea2-970f-eb8b816466fa",
   "metadata": {},
   "outputs": [
    {
     "data": {
      "text/html": [
       "<div>\n",
       "<style scoped>\n",
       "    .dataframe tbody tr th:only-of-type {\n",
       "        vertical-align: middle;\n",
       "    }\n",
       "\n",
       "    .dataframe tbody tr th {\n",
       "        vertical-align: top;\n",
       "    }\n",
       "\n",
       "    .dataframe thead th {\n",
       "        text-align: right;\n",
       "    }\n",
       "</style>\n",
       "<table border=\"1\" class=\"dataframe\">\n",
       "  <thead>\n",
       "    <tr style=\"text-align: right;\">\n",
       "      <th></th>\n",
       "      <th>&lt;r&gt;</th>\n",
       "      <th>lambda</th>\n",
       "    </tr>\n",
       "  </thead>\n",
       "  <tbody>\n",
       "    <tr>\n",
       "      <th>0</th>\n",
       "      <td>0.906463</td>\n",
       "      <td>15.037331</td>\n",
       "    </tr>\n",
       "    <tr>\n",
       "      <th>1</th>\n",
       "      <td>0.887144</td>\n",
       "      <td>14.547292</td>\n",
       "    </tr>\n",
       "    <tr>\n",
       "      <th>2</th>\n",
       "      <td>0.769382</td>\n",
       "      <td>14.151717</td>\n",
       "    </tr>\n",
       "    <tr>\n",
       "      <th>3</th>\n",
       "      <td>0.932200</td>\n",
       "      <td>14.041314</td>\n",
       "    </tr>\n",
       "    <tr>\n",
       "      <th>4</th>\n",
       "      <td>0.772694</td>\n",
       "      <td>13.922168</td>\n",
       "    </tr>\n",
       "  </tbody>\n",
       "</table>\n",
       "</div>"
      ],
      "text/plain": [
       "        <r>     lambda\n",
       "0  0.906463  15.037331\n",
       "1  0.887144  14.547292\n",
       "2  0.769382  14.151717\n",
       "3  0.932200  14.041314\n",
       "4  0.772694  13.922168"
      ]
     },
     "execution_count": 4,
     "metadata": {},
     "output_type": "execute_result"
    }
   ],
   "source": [
    "f_csv_1 = f'./data/{host}_STRAND1_st.csv'\n",
    "f_csv_2 = f'./data/{host}_STRAND2_st.csv'\n",
    "df_1 = pd.read_csv(f_csv_1)\n",
    "df_2 = pd.read_csv(f_csv_2)\n",
    "df_1.head()"
   ]
  },
  {
   "cell_type": "code",
   "execution_count": 5,
   "id": "5a977027-440c-442c-be13-ef241cfcd90f",
   "metadata": {},
   "outputs": [],
   "source": [
    "lambda_lst = df_1['lambda'].tolist() + df_2['lambda'].tolist()"
   ]
  },
  {
   "cell_type": "code",
   "execution_count": 6,
   "id": "1f83c271-6a88-4ce9-bc73-004e291a2d51",
   "metadata": {},
   "outputs": [
    {
     "data": {
      "image/png": "[encoded data removed]",
      "text/plain": [
       "<Figure size 144x72 with 1 Axes>"
      ]
     },
     "metadata": {
      "needs_background": "light"
     },
     "output_type": "display_data"
    }
   ],
   "source": [
    "figsize = (2, 1)\n",
    "fig, ax = plt.subplots(figsize=figsize)\n",
    "ax.boxplot([lambda_lst], whis=1., widths=0.6, vert=False, boxprops={'facecolor': 'steelblue'}, \n",
    "           medianprops={'color': 'black'}, patch_artist=True, sym='d', \n",
    "           flierprops={'markerfacecolor': 'tab:blue', 'markersize': 3, 'markeredgewidth': 0.8})\n",
    "#ax.axvline(x_criteria, linestyle='--', linewidth=1, color='red', alpha=0.8)\n",
    "plt.show()"
   ]
  },
  {
   "cell_type": "code",
   "execution_count": 9,
   "id": "a57aa01b-f309-45d3-b77d-662e2f5566b3",
   "metadata": {},
   "outputs": [],
   "source": [
    "def get_x_outlier_criteria(x_array):\n",
    "    whis = 1\n",
    "    q1 = np.quantile(x_array, .25)\n",
    "    q3 = np.quantile(x_array, .75)\n",
    "    return q3 + whis * (q3 - q1)"
   ]
  },
  {
   "cell_type": "code",
   "execution_count": 12,
   "id": "ffae4266-bb4d-4d10-af01-b0b997b1fa4a",
   "metadata": {},
   "outputs": [
    {
     "data": {
      "text/plain": [
       "11.416654162508753"
      ]
     },
     "execution_count": 12,
     "metadata": {},
     "output_type": "execute_result"
    }
   ],
   "source": [
    "x_criteria = get_x_outlier_criteria(lambda_lst)\n",
    "x_criteria"
   ]
  },
  {
   "cell_type": "code",
   "execution_count": 13,
   "id": "458cd63d-406b-4f58-b228-eef66c29e7df",
   "metadata": {},
   "outputs": [
    {
     "data": {
      "text/plain": [
       "array([15.03733074, 14.54729156, 14.15171726, 14.04131377, 13.922168  ,\n",
       "       13.32434755, 12.63659895, 12.11153811, 11.60691858, 11.49161463,\n",
       "       15.09387677, 14.72081818, 14.45077585, 14.13688172, 14.08069292,\n",
       "       12.99337346, 12.94253471, 12.07136406, 11.67748184, 11.58197611])"
      ]
     },
     "execution_count": 13,
     "metadata": {},
     "output_type": "execute_result"
    }
   ],
   "source": [
    "lambda_array = np.array(lambda_lst)\n",
    "lambda_array[lambda_array >= x_criteria]"
   ]
  },
  {
   "cell_type": "code",
   "execution_count": 14,
   "id": "ec77a257-e80f-4ca7-8e42-d8191ad50a2e",
   "metadata": {},
   "outputs": [
    {
     "data": {
      "text/plain": [
       "(20,)"
      ]
     },
     "execution_count": 14,
     "metadata": {},
     "output_type": "execute_result"
    }
   ],
   "source": [
    "lambda_array[lambda_array >= x_criteria].shape"
   ]
  },
  {
   "cell_type": "code",
   "execution_count": null,
   "id": "d0c80544-f96f-43ab-b554-1f295ca48255",
   "metadata": {},
   "outputs": [],
   "source": []
  }
 ],
 "metadata": {
  "kernelspec": {
   "display_name": "Python 3",
   "language": "python",
   "name": "python3"
  },
  "language_info": {
   "codemirror_mode": {
    "name": "ipython",
    "version": 3
   },
   "file_extension": ".py",
   "mimetype": "text/x-python",
   "name": "python",
   "nbconvert_exporter": "python",
   "pygments_lexer": "ipython3",
   "version": "3.8.12"
  }
 },
 "nbformat": 4,
 "nbformat_minor": 5
}
